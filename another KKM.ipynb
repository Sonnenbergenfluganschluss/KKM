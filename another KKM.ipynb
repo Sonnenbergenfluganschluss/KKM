{
 "cells": [
  {
   "cell_type": "code",
   "execution_count": 1,
   "metadata": {},
   "outputs": [],
   "source": [
    "import pandas as pd\n",
    "import re"
   ]
  },
  {
   "cell_type": "code",
   "execution_count": 87,
   "metadata": {},
   "outputs": [],
   "source": [
    "polugodie = pd.read_excel(\"Полугодия.xlsx\", index_col=\"year\")\n",
    "u_sin = pd.read_excel(\"У-син.xlsx\", index_col=\"Орган\")\n",
    "season_qi = pd.read_excel(\"season_qi.xlsx\", index_col=\"Орган\")\n",
    "qi = pd.read_excel(\"qi.xlsx\", index_col=\"Стихия\")\n",
    "stvoly = pd.read_excel(\"stvoly.xlsx\", index_col=\"year\")\n",
    "vetvi = pd.read_excel(\"vetvi.xlsx\", index_col=\"year\")\n",
    "sloy = pd.read_excel(\"sloy.xlsx\", index_col=\"year\")\n",
    "table = pd.read_csv(\"table.csv\", index_col='Орган')\n",
    "tochki_pitanie = pd.read_csv(\"tochki_pitanie.csv\", index_col='Орган').drop('Unnamed: 0', axis=1)\n",
    "channels_Ke = pd.read_csv(\"channels_Ke.csv\", index_col=0)\n"
   ]
  },
  {
   "cell_type": "code",
   "execution_count": 90,
   "metadata": {},
   "outputs": [
    {
     "data": {
      "text/html": [
       "<div>\n",
       "<style scoped>\n",
       "    .dataframe tbody tr th:only-of-type {\n",
       "        vertical-align: middle;\n",
       "    }\n",
       "\n",
       "    .dataframe tbody tr th {\n",
       "        vertical-align: top;\n",
       "    }\n",
       "\n",
       "    .dataframe thead th {\n",
       "        text-align: right;\n",
       "    }\n",
       "</style>\n",
       "<table border=\"1\" class=\"dataframe\">\n",
       "  <thead>\n",
       "    <tr style=\"text-align: right;\">\n",
       "      <th></th>\n",
       "      <th>Gb</th>\n",
       "      <th>Si</th>\n",
       "      <th>Th</th>\n",
       "      <th>St</th>\n",
       "      <th>Co</th>\n",
       "      <th>Bl</th>\n",
       "      <th>Liv</th>\n",
       "      <th>Ht</th>\n",
       "      <th>Hg</th>\n",
       "      <th>Sp</th>\n",
       "      <th>Lu</th>\n",
       "      <th>Kid</th>\n",
       "    </tr>\n",
       "  </thead>\n",
       "  <tbody>\n",
       "    <tr>\n",
       "      <th>по стволам</th>\n",
       "      <td>Sp</td>\n",
       "      <td>Lu</td>\n",
       "      <td>-</td>\n",
       "      <td>Kid</td>\n",
       "      <td>Liv</td>\n",
       "      <td>Ht</td>\n",
       "      <td>Co</td>\n",
       "      <td>Bl</td>\n",
       "      <td>-</td>\n",
       "      <td>Gb</td>\n",
       "      <td>Si</td>\n",
       "      <td>St</td>\n",
       "    </tr>\n",
       "    <tr>\n",
       "      <th>по ветвям</th>\n",
       "      <td>Ht</td>\n",
       "      <td>Liv</td>\n",
       "      <td>Sp</td>\n",
       "      <td>Hg</td>\n",
       "      <td>Kid</td>\n",
       "      <td>Lu</td>\n",
       "      <td>Si</td>\n",
       "      <td>Gb</td>\n",
       "      <td>St</td>\n",
       "      <td>Th</td>\n",
       "      <td>Bl</td>\n",
       "      <td>Co</td>\n",
       "    </tr>\n",
       "    <tr>\n",
       "      <th>по у-син</th>\n",
       "      <td>Lu</td>\n",
       "      <td>Kid</td>\n",
       "      <td>Kid</td>\n",
       "      <td>Liv</td>\n",
       "      <td>Hg, Ht</td>\n",
       "      <td>Sp</td>\n",
       "      <td>Co</td>\n",
       "      <td>Bl</td>\n",
       "      <td>Bl</td>\n",
       "      <td>Gb</td>\n",
       "      <td>Th, Si</td>\n",
       "      <td>St</td>\n",
       "    </tr>\n",
       "    <tr>\n",
       "      <th>внутри дома</th>\n",
       "      <td>Liv</td>\n",
       "      <td>Ht, Hg</td>\n",
       "      <td>Ht, Hg</td>\n",
       "      <td>Sp</td>\n",
       "      <td>Lu</td>\n",
       "      <td>Kid</td>\n",
       "      <td>Gb</td>\n",
       "      <td>Si, Th</td>\n",
       "      <td>Si, Th</td>\n",
       "      <td>St</td>\n",
       "      <td>Co</td>\n",
       "      <td>Bl</td>\n",
       "    </tr>\n",
       "  </tbody>\n",
       "</table>\n",
       "</div>"
      ],
      "text/plain": [
       "              Gb      Si      Th   St      Co   Bl Liv      Ht      Hg  Sp  \\\n",
       "по стволам    Sp      Lu       -  Kid     Liv   Ht  Co      Bl       -  Gb   \n",
       "по ветвям     Ht     Liv      Sp   Hg     Kid   Lu  Si      Gb      St  Th   \n",
       "по у-син      Lu     Kid     Kid  Liv  Hg, Ht   Sp  Co      Bl      Bl  Gb   \n",
       "внутри дома  Liv  Ht, Hg  Ht, Hg   Sp      Lu  Kid  Gb  Si, Th  Si, Th  St   \n",
       "\n",
       "                 Lu Kid  \n",
       "по стволам       Si  St  \n",
       "по ветвям        Bl  Co  \n",
       "по у-син     Th, Si  St  \n",
       "внутри дома      Co  Bl  "
      ]
     },
     "execution_count": 90,
     "metadata": {},
     "output_type": "execute_result"
    }
   ],
   "source": [
    "channels_Ke"
   ]
  },
  {
   "cell_type": "code",
   "execution_count": 86,
   "metadata": {},
   "outputs": [],
   "source": []
  }
 ],
 "metadata": {
  "kernelspec": {
   "display_name": "Python 3",
   "language": "python",
   "name": "python3"
  },
  "language_info": {
   "codemirror_mode": {
    "name": "ipython",
    "version": 3
   },
   "file_extension": ".py",
   "mimetype": "text/x-python",
   "name": "python",
   "nbconvert_exporter": "python",
   "pygments_lexer": "ipython3",
   "version": "3.9.10"
  }
 },
 "nbformat": 4,
 "nbformat_minor": 2
}
