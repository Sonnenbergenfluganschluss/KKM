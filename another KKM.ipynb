{
 "cells": [
  {
   "cell_type": "code",
   "execution_count": 1,
   "metadata": {},
   "outputs": [],
   "source": [
    "import pandas as pd\n",
    "import re"
   ]
  },
  {
   "cell_type": "code",
   "execution_count": 2,
   "metadata": {},
   "outputs": [],
   "source": [
    "table = pd.read_csv(\"table.csv\", index_col='Орган')\n",
    "points = pd.read_csv(\"points.csv\", index_col=\"Точка\")\n",
    "pitanie = pd.read_csv(\"pitanie.csv\", index_col='Unnamed: 0')\n",
    "ke = pd.read_csv(\"ke.csv\", index_col='Unnamed: 0')\n"
   ]
  },
  {
   "cell_type": "code",
   "execution_count": 4,
   "metadata": {},
   "outputs": [
    {
     "data": {
      "text/html": [
       "<div>\n",
       "<style scoped>\n",
       "    .dataframe tbody tr th:only-of-type {\n",
       "        vertical-align: middle;\n",
       "    }\n",
       "\n",
       "    .dataframe tbody tr th {\n",
       "        vertical-align: top;\n",
       "    }\n",
       "\n",
       "    .dataframe thead th {\n",
       "        text-align: right;\n",
       "    }\n",
       "</style>\n",
       "<table border=\"1\" class=\"dataframe\">\n",
       "  <thead>\n",
       "    <tr style=\"text-align: right;\">\n",
       "      <th></th>\n",
       "      <th>Стихия_усин</th>\n",
       "      <th>Инь_Ян</th>\n",
       "      <th>Стихия_сезон</th>\n",
       "      <th>Gui</th>\n",
       "      <th>Xue</th>\n",
       "      <th>Luo</th>\n",
       "      <th>Jing_Jin</th>\n",
       "      <th>Yuan</th>\n",
       "    </tr>\n",
       "    <tr>\n",
       "      <th>Орган</th>\n",
       "      <th></th>\n",
       "      <th></th>\n",
       "      <th></th>\n",
       "      <th></th>\n",
       "      <th></th>\n",
       "      <th></th>\n",
       "      <th></th>\n",
       "      <th></th>\n",
       "    </tr>\n",
       "  </thead>\n",
       "  <tbody>\n",
       "    <tr>\n",
       "      <th>Gb</th>\n",
       "      <td>дерево</td>\n",
       "      <td>Yang</td>\n",
       "      <td>вода</td>\n",
       "      <td>Gv23</td>\n",
       "      <td>Gb36</td>\n",
       "      <td>Gb37</td>\n",
       "      <td>Gb44</td>\n",
       "      <td>Gb40</td>\n",
       "    </tr>\n",
       "    <tr>\n",
       "      <th>Si</th>\n",
       "      <td>огонь</td>\n",
       "      <td>Yang</td>\n",
       "      <td>земля</td>\n",
       "      <td>HG8(HG7)</td>\n",
       "      <td>Si6</td>\n",
       "      <td>Si7</td>\n",
       "      <td>Si1</td>\n",
       "      <td>Si4</td>\n",
       "    </tr>\n",
       "    <tr>\n",
       "      <th>Th</th>\n",
       "      <td>огонь</td>\n",
       "      <td>Yang</td>\n",
       "      <td>вода</td>\n",
       "      <td>Sp1</td>\n",
       "      <td>Th7</td>\n",
       "      <td>Th5</td>\n",
       "      <td>Th1</td>\n",
       "      <td>Th4</td>\n",
       "    </tr>\n",
       "    <tr>\n",
       "      <th>St</th>\n",
       "      <td>земля</td>\n",
       "      <td>Yang</td>\n",
       "      <td>земля</td>\n",
       "      <td>St6</td>\n",
       "      <td>St34</td>\n",
       "      <td>St40</td>\n",
       "      <td>St45</td>\n",
       "      <td>St42</td>\n",
       "    </tr>\n",
       "    <tr>\n",
       "      <th>Co</th>\n",
       "      <td>металл</td>\n",
       "      <td>Yang</td>\n",
       "      <td>дерево</td>\n",
       "      <td>Cv24</td>\n",
       "      <td>Co7</td>\n",
       "      <td>Co6</td>\n",
       "      <td>Co1</td>\n",
       "      <td>Co4</td>\n",
       "    </tr>\n",
       "    <tr>\n",
       "      <th>Bl</th>\n",
       "      <td>вода</td>\n",
       "      <td>Yang</td>\n",
       "      <td>металл</td>\n",
       "      <td>HG7(HG5)</td>\n",
       "      <td>Bl63</td>\n",
       "      <td>Bl58</td>\n",
       "      <td>Bl67</td>\n",
       "      <td>Bl64</td>\n",
       "    </tr>\n",
       "    <tr>\n",
       "      <th>Liv</th>\n",
       "      <td>дерево</td>\n",
       "      <td>Yin</td>\n",
       "      <td>земля</td>\n",
       "      <td>Gv16</td>\n",
       "      <td>Liv6</td>\n",
       "      <td>Liv5</td>\n",
       "      <td>Liv1</td>\n",
       "      <td>Liv3</td>\n",
       "    </tr>\n",
       "    <tr>\n",
       "      <th>Ht</th>\n",
       "      <td>огонь</td>\n",
       "      <td>Yin</td>\n",
       "      <td>огонь</td>\n",
       "      <td>Lu11</td>\n",
       "      <td>Ht6</td>\n",
       "      <td>Ht5</td>\n",
       "      <td>Ht9</td>\n",
       "      <td>Ht7</td>\n",
       "    </tr>\n",
       "    <tr>\n",
       "      <th>Hg</th>\n",
       "      <td>огонь</td>\n",
       "      <td>Yin</td>\n",
       "      <td>земля</td>\n",
       "      <td>Bl62</td>\n",
       "      <td>Hg4</td>\n",
       "      <td>Hg6</td>\n",
       "      <td>Hg9</td>\n",
       "      <td>Hg7</td>\n",
       "    </tr>\n",
       "    <tr>\n",
       "      <th>Sp</th>\n",
       "      <td>земля</td>\n",
       "      <td>Yin</td>\n",
       "      <td>огонь</td>\n",
       "      <td>MNH37</td>\n",
       "      <td>Sp8</td>\n",
       "      <td>Sp4</td>\n",
       "      <td>Sp1</td>\n",
       "      <td>Sp3</td>\n",
       "    </tr>\n",
       "    <tr>\n",
       "      <th>Lu</th>\n",
       "      <td>металл</td>\n",
       "      <td>Yin</td>\n",
       "      <td>дерево</td>\n",
       "      <td>Gv26</td>\n",
       "      <td>Lu6</td>\n",
       "      <td>Lu7</td>\n",
       "      <td>Lu11</td>\n",
       "      <td>Lu9</td>\n",
       "    </tr>\n",
       "    <tr>\n",
       "      <th>Kid</th>\n",
       "      <td>вода</td>\n",
       "      <td>Yin</td>\n",
       "      <td>металл</td>\n",
       "      <td>Co11</td>\n",
       "      <td>Kid5</td>\n",
       "      <td>Kid4</td>\n",
       "      <td>Kid1</td>\n",
       "      <td>Kid3</td>\n",
       "    </tr>\n",
       "  </tbody>\n",
       "</table>\n",
       "</div>"
      ],
      "text/plain": [
       "      Стихия_усин Инь_Ян Стихия_сезон       Gui   Xue   Luo Jing_Jin  Yuan\n",
       "Орган                                                                     \n",
       "Gb         дерево   Yang         вода      Gv23  Gb36  Gb37     Gb44  Gb40\n",
       "Si          огонь   Yang        земля  HG8(HG7)   Si6   Si7      Si1   Si4\n",
       "Th          огонь   Yang         вода       Sp1   Th7   Th5      Th1   Th4\n",
       "St          земля   Yang        земля       St6  St34  St40     St45  St42\n",
       "Co         металл   Yang       дерево      Cv24   Co7   Co6      Co1   Co4\n",
       "Bl           вода   Yang       металл  HG7(HG5)  Bl63  Bl58     Bl67  Bl64\n",
       "Liv        дерево    Yin        земля      Gv16  Liv6  Liv5     Liv1  Liv3\n",
       "Ht          огонь    Yin        огонь      Lu11   Ht6   Ht5      Ht9   Ht7\n",
       "Hg          огонь    Yin        земля      Bl62   Hg4   Hg6      Hg9   Hg7\n",
       "Sp          земля    Yin        огонь     MNH37   Sp8   Sp4      Sp1   Sp3\n",
       "Lu         металл    Yin       дерево      Gv26   Lu6   Lu7     Lu11   Lu9\n",
       "Kid          вода    Yin       металл      Co11  Kid5  Kid4     Kid1  Kid3"
      ]
     },
     "execution_count": 4,
     "metadata": {},
     "output_type": "execute_result"
    }
   ],
   "source": [
    "table"
   ]
  },
  {
   "cell_type": "code",
   "execution_count": 3,
   "metadata": {},
   "outputs": [],
   "source": [
    "{\"t\":1, \"f\":2, \"e\":3, \"m\":4, \"w\":5}\n",
    "\n",
    "\n",
    "def kachestvo(chan):\n",
    "    '''\n",
    "    Принимает на вход два канала и возвращает их общие качества\n",
    "    '''\n",
    "    dict_of_colors = {'Liv':[4,3,1,1], 'Gb':[3,5,1,2], 'Ht':[1,2,2,2], 'Si':[5,3,2,5], 'Hg':[3,2,1], \n",
    "                    'Th':[5,2,2], 'Sp':[3,2,3,3], 'St':[2,3,3,4], 'Lu':[5,1,4,3], 'Co':[4,1,4,4], 'Kid':[2,4,5,2], 'Bl':[1,4,5,5]}\n",
    "    return str(set(dict_of_colors[chan[0]]) & set(dict_of_colors[chan[1]])).strip('{}')\n"
   ]
  },
  {
   "cell_type": "code",
   "execution_count": 157,
   "metadata": {},
   "outputs": [],
   "source": [
    "points = pd.read_csv(\"points.csv\", index_col=\"Точка\")#.drop('Unnamed: 0', axis=1)"
   ]
  },
  {
   "cell_type": "code",
   "execution_count": 159,
   "metadata": {},
   "outputs": [
    {
     "data": {
      "text/plain": [
       "Название                                                «Фэй ян»\n",
       "Значение       «Фэй ян» — «взлететь, взметнуться». Коллатерал...\n",
       "Локализация    на 7 цуней прямо кверху от точки Кунь-лунь Bl6...\n",
       "Name: Bl58, dtype: object"
      ]
     },
     "execution_count": 159,
     "metadata": {},
     "output_type": "execute_result"
    }
   ],
   "source": [
    "points.loc['Bl58', ['Название',\t'Значение',\t'Локализация']] = \\\n",
    "    ['«Фэй ян»', \n",
    "    '«Фэй ян» — «взлететь, взметнуться». Коллатераль ножного тай-ян канала мочевого пузыря отходит («взлетает») от точки Фэй-ян Bl58 и соединяется с ножным шао-инь каналом почек.', \n",
    "    'на 7 цуней прямо кверху от точки Кунь-лунь Bl60 (в углублении между латеральной лодыжкой и пяточным сухожилием)']\n",
    "points.loc['Bl58',:]"
   ]
  },
  {
   "cell_type": "code",
   "execution_count": 160,
   "metadata": {},
   "outputs": [],
   "source": [
    "points.to_csv(\"points.csv\")"
   ]
  },
  {
   "cell_type": "code",
   "execution_count": 125,
   "metadata": {},
   "outputs": [
    {
     "data": {
      "text/plain": [
       "['all_patients.csv',\n",
       " 'patients.csv',\n",
       " 'Богданов М.А..csv',\n",
       " 'Богданов Максим Александрович.csv',\n",
       " 'Бочкова Людмила Ованесовна.csv',\n",
       " 'Денисова Светлана Александровна.csv',\n",
       " 'Ермакова Людмила Ивановна.csv',\n",
       " 'Карасёва Наталья Борисовна.csv',\n",
       " 'Круглова Елена Викторовна.csv',\n",
       " 'Миронова Наталья Николаевна.csv',\n",
       " 'Носкова Нина Павловна.csv',\n",
       " 'Носкова Ольга Геннадьевна.csv',\n",
       " 'Шапошников Сергей Анатольевич.csv',\n",
       " 'Шевченко Надежда Николаевна.csv']"
      ]
     },
     "execution_count": 125,
     "metadata": {},
     "output_type": "execute_result"
    }
   ],
   "source": [
    "from os import listdir\n",
    "from os.path import isfile, join\n",
    "\n",
    "mypath = './patients/'\n",
    "onlyfiles = [f for f in listdir(mypath) if isfile(join(mypath, f))]\n",
    "onlyfiles"
   ]
  },
  {
   "cell_type": "code",
   "execution_count": 243,
   "metadata": {},
   "outputs": [],
   "source": [
    "from datetime import datetime\n",
    "import csv\n",
    "# new_save = pd.DataFrame(\n",
    "#     # index=[datetime.now().date()],\n",
    "#     data=[[datetime.now().date(), '', '', '', '', '', '', '']],\n",
    "#     columns=['Дата', 'ФИО', 'дата рождения', 'жалобы', 'метод лечения', 'дата события', 'лечение', 'комментарии']\n",
    "# )\n",
    "new_save = [datetime.now().date(), 'd', 'sd', 'sd', '', 'sd', '', 'sd']"
   ]
  },
  {
   "cell_type": "code",
   "execution_count": 254,
   "metadata": {},
   "outputs": [
    {
     "ename": "AttributeError",
     "evalue": "'_io.BufferedReader' object has no attribute 'detect'",
     "output_type": "error",
     "traceback": [
      "\u001b[1;31m---------------------------------------------------------------------------\u001b[0m",
      "\u001b[1;31mAttributeError\u001b[0m                            Traceback (most recent call last)",
      "Cell \u001b[1;32mIn[254], line 2\u001b[0m\n\u001b[0;32m      1\u001b[0m \u001b[38;5;28;01mwith\u001b[39;00m \u001b[38;5;28mopen\u001b[39m(\u001b[38;5;124m'\u001b[39m\u001b[38;5;124mpatients/all_patients.csv\u001b[39m\u001b[38;5;124m'\u001b[39m, \u001b[38;5;124m'\u001b[39m\u001b[38;5;124mrb\u001b[39m\u001b[38;5;124m'\u001b[39m) \u001b[38;5;28;01mas\u001b[39;00m f:\n\u001b[1;32m----> 2\u001b[0m     \u001b[43mf\u001b[49m\u001b[38;5;241;43m.\u001b[39;49m\u001b[43mdetect\u001b[49m(f\u001b[38;5;241m.\u001b[39mread())\n",
      "\u001b[1;31mAttributeError\u001b[0m: '_io.BufferedReader' object has no attribute 'detect'"
     ]
    }
   ],
   "source": [
    "\n",
    "with open('patients/all_patients.csv', 'rb') as f:\n",
    "    encoding.detect(f.read())"
   ]
  },
  {
   "cell_type": "code",
   "execution_count": 260,
   "metadata": {},
   "outputs": [],
   "source": [
    "# save_all = pd.read_csv(\"patients/patients.csv\", index_col='Дата')   chardet.detect(f.read())\n",
    "# pd.concat([patients[:2], new_save], axis=0)#.drop_duplicates()\n",
    "\n",
    "with open('patients/all_patients.csv', 'a') as file:\n",
    "    writer = csv.writer(file)\n",
    "    writer.writerow(new_save) \n",
    "file.close()\n",
    "\n",
    "# with open('eggs.csv', 'w', newline='') as csvfile:\n",
    "#     spamwriter = csv.writer(csvfile, delimiter=' ',\n",
    "#                             quotechar='|', quoting=csv.QUOTE_MINIMAL)\n",
    "#     spamwriter.writerow(['Spam'] * 5 + ['Baked Beans'])\n",
    "#     spamwriter.writerow(['Spam', 'Lovely Spam', 'Wonderful Spam'])"
   ]
  },
  {
   "cell_type": "code",
   "execution_count": 265,
   "metadata": {},
   "outputs": [
    {
     "data": {
      "text/html": [
       "<div>\n",
       "<style scoped>\n",
       "    .dataframe tbody tr th:only-of-type {\n",
       "        vertical-align: middle;\n",
       "    }\n",
       "\n",
       "    .dataframe tbody tr th {\n",
       "        vertical-align: top;\n",
       "    }\n",
       "\n",
       "    .dataframe thead th {\n",
       "        text-align: right;\n",
       "    }\n",
       "</style>\n",
       "<table border=\"1\" class=\"dataframe\">\n",
       "  <thead>\n",
       "    <tr style=\"text-align: right;\">\n",
       "      <th></th>\n",
       "      <th>Дата</th>\n",
       "      <th>ФИО</th>\n",
       "      <th>дата рождения</th>\n",
       "      <th>жалобы</th>\n",
       "      <th>метод лечения</th>\n",
       "      <th>застой</th>\n",
       "      <th>недостаток</th>\n",
       "      <th>блок</th>\n",
       "      <th>Gui</th>\n",
       "      <th>противоток</th>\n",
       "      <th>xue</th>\n",
       "      <th>пат.рост</th>\n",
       "      <th>жар</th>\n",
       "      <th>холод</th>\n",
       "      <th>сырость</th>\n",
       "      <th>сухость</th>\n",
       "      <th>лечение</th>\n",
       "      <th>комментарии</th>\n",
       "      <th>дата события</th>\n",
       "    </tr>\n",
       "  </thead>\n",
       "  <tbody>\n",
       "    <tr>\n",
       "      <th>15</th>\n",
       "      <td>2025-01-18</td>\n",
       "      <td>Стругин Константин Геннадьевич</td>\n",
       "      <td>27.05.1968</td>\n",
       "      <td>Боли в спине начинаются после физической нагру...</td>\n",
       "      <td>Питание и Ке</td>\n",
       "      <td>['Co', 'Bl']</td>\n",
       "      <td>['Liv', 'Kid']</td>\n",
       "      <td>[]</td>\n",
       "      <td>['Ht', 'Bl', 'Lu', 'St']</td>\n",
       "      <td>[]</td>\n",
       "      <td>[]</td>\n",
       "      <td>[]</td>\n",
       "      <td>[]</td>\n",
       "      <td>[]</td>\n",
       "      <td>[]</td>\n",
       "      <td>[]</td>\n",
       "      <td>Lu11, HG7(HG5), Gv26, St6 (d*-s*), Lu9 (s')</td>\n",
       "      <td>При хорошем эффекте на основных каналах в план...</td>\n",
       "      <td>NaN</td>\n",
       "    </tr>\n",
       "    <tr>\n",
       "      <th>16</th>\n",
       "      <td>2025-01-18</td>\n",
       "      <td>Бочкарева Альбина Анатольевна</td>\n",
       "      <td>08.05.1973</td>\n",
       "      <td>Боли в правой ноге по латеральной поверхности ...</td>\n",
       "      <td>Лунные дворцы</td>\n",
       "      <td>NaN</td>\n",
       "      <td>NaN</td>\n",
       "      <td>NaN</td>\n",
       "      <td>NaN</td>\n",
       "      <td>NaN</td>\n",
       "      <td>NaN</td>\n",
       "      <td>NaN</td>\n",
       "      <td>NaN</td>\n",
       "      <td>NaN</td>\n",
       "      <td>NaN</td>\n",
       "      <td>NaN</td>\n",
       "      <td>Bl58 (d'-s')</td>\n",
       "      <td>NaN</td>\n",
       "      <td>08.05.2016</td>\n",
       "    </tr>\n",
       "  </tbody>\n",
       "</table>\n",
       "</div>"
      ],
      "text/plain": [
       "          Дата                             ФИО дата рождения  \\\n",
       "15  2025-01-18  Стругин Константин Геннадьевич    27.05.1968   \n",
       "16  2025-01-18   Бочкарева Альбина Анатольевна    08.05.1973   \n",
       "\n",
       "                                               жалобы  метод лечения  \\\n",
       "15  Боли в спине начинаются после физической нагру...   Питание и Ке   \n",
       "16  Боли в правой ноге по латеральной поверхности ...  Лунные дворцы   \n",
       "\n",
       "          застой      недостаток блок                       Gui противоток  \\\n",
       "15  ['Co', 'Bl']  ['Liv', 'Kid']   []  ['Ht', 'Bl', 'Lu', 'St']         []   \n",
       "16           NaN             NaN  NaN                       NaN        NaN   \n",
       "\n",
       "    xue пат.рост  жар холод сырость сухость  \\\n",
       "15   []       []   []    []      []      []   \n",
       "16  NaN      NaN  NaN   NaN     NaN     NaN   \n",
       "\n",
       "                                        лечение  \\\n",
       "15  Lu11, HG7(HG5), Gv26, St6 (d*-s*), Lu9 (s')   \n",
       "16                                Bl58 (d'-s')    \n",
       "\n",
       "                                          комментарии дата события  \n",
       "15  При хорошем эффекте на основных каналах в план...          NaN  \n",
       "16                                                NaN   08.05.2016  "
      ]
     },
     "execution_count": 265,
     "metadata": {},
     "output_type": "execute_result"
    }
   ],
   "source": [
    "patients = pd.read_csv(\"patients/patients.csv\")#.drop('Unnamed: 0', axis=1)#,index_col=\"Дата\", parse_dates=True\n",
    "# patients = pd.read_csv(f\"patients/{onlyfiles[2]}\")\n",
    "# for file in onlyfiles[3:]:\n",
    "#     patient = pd.read_csv(f\"patients/{file}\")\n",
    "#     patients = pd.concat([patients, patient], axis=0)\n",
    "\n",
    "# # patients['Unnamed: 0'] = patients['Unnamed: 0'].str.replace(\"/\", \".\")\n",
    "# patients['Unnamed: 0'] = pd.to_datetime(patients['Unnamed: 0'], format=\"mixed\", dayfirst=True)\n",
    "# patients = patients.sort_values(\"Unnamed: 0\")\n",
    "# patients = patients.rename(columns={\"Unnamed: 0\":\"Дата\"})\n",
    "# patients = patients.reset_index(drop=True)\n",
    "# # patients\n",
    "# patients.drop('Unnamed: 0.1', axis=1, inplace=True)\n",
    "\n",
    "patients[-2:]"
   ]
  },
  {
   "cell_type": "code",
   "execution_count": 216,
   "metadata": {},
   "outputs": [],
   "source": [
    "# from datetime import datetime\n",
    "# new_save = pd.DataFrame(\n",
    "#     index=[datetime.now().date()],\n",
    "#     data=0,\n",
    "#     columns=['ФИО', 'дата рождения', 'жалобы', 'метод лечения', 'дата события', 'лечение', 'комментарии']\n",
    "# )\n",
    "# # save_all = pd.read_csv(\"patients/patients.csv\", index_col='Дата')\n",
    "# pd.concat([patients[:2], new_save], axis=0)#.drop_duplicates()"
   ]
  },
  {
   "cell_type": "code",
   "execution_count": 241,
   "metadata": {},
   "outputs": [],
   "source": [
    "\n",
    "patients.to_csv(\"patients/patients.csv\", index=False)\n",
    "# name = 'Стругин Константин Геннадьевич'\n",
    "# patients[patients['ФИО']==name]#[-1:].dropna(axis=1)"
   ]
  },
  {
   "cell_type": "code",
   "execution_count": 249,
   "metadata": {},
   "outputs": [
    {
     "data": {
      "text/plain": [
       "'None, None, None, None, None, None, None, None, None, None, None, '"
      ]
     },
     "execution_count": 249,
     "metadata": {},
     "output_type": "execute_result"
    }
   ],
   "source": [
    "'None, ' * 11"
   ]
  }
 ],
 "metadata": {
  "kernelspec": {
   "display_name": "Python 3",
   "language": "python",
   "name": "python3"
  },
  "language_info": {
   "codemirror_mode": {
    "name": "ipython",
    "version": 3
   },
   "file_extension": ".py",
   "mimetype": "text/x-python",
   "name": "python",
   "nbconvert_exporter": "python",
   "pygments_lexer": "ipython3",
   "version": "3.9.10"
  }
 },
 "nbformat": 4,
 "nbformat_minor": 2
}
