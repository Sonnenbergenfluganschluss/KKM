{
 "cells": [
  {
   "cell_type": "code",
   "execution_count": 26,
   "metadata": {},
   "outputs": [],
   "source": [
    "import pandas as pd\n",
    "import requests\n",
    "from bs4 import BeautifulSoup  as BS # Импортируем библиотеку BeautifulSoup\n",
    "from fake_useragent import UserAgent # для обхода блокировки парсинга сайтом\n",
    "import pandas as pd\n",
    "from time import sleep\n",
    "import re"
   ]
  },
  {
   "cell_type": "code",
   "execution_count": 127,
   "metadata": {},
   "outputs": [],
   "source": [
    "\n",
    "\n",
    "BASE_URL = 'https://reflexo.io/ru/tcm/acupuncture/points' # Определяем значение URL страницы для запроса\n",
    "HEADERS = {'User-Agent': UserAgent().random} # генерируем рандомный UserAgent для сайта\n",
    "\n",
    "response = requests.get(BASE_URL, headers=HEADERS) # в сессии делаем запрос\n",
    "soup = BS(response.text, 'html.parser') # Создаём объект BeautifulSoup с содержимым r, указывая html-парсер\n",
    "links = soup.find('div', class_='border list-group lg-points').text.split(' | ')[1:]\n",
    "\n",
    "points = pd.DataFrame(links, columns=['points'])\n",
    "points\n",
    "points.points = points.points.str.extract(r\"(\\w*)\")\n",
    "for a in points.points.index:\n",
    "    points.loc[a, 'points'] = re.sub(r'(\\d+)', '', points.loc[a, 'points'])\n",
    "points"
   ]
  },
  {
   "cell_type": "code",
   "execution_count": 140,
   "metadata": {},
   "outputs": [
    {
     "data": {
      "text/plain": [
       "['Jingming', 'Zanzhu', 'Meichong']"
      ]
     },
     "execution_count": 140,
     "metadata": {},
     "output_type": "execute_result"
    }
   ],
   "source": [
    "points.points[:3].to_list()"
   ]
  },
  {
   "cell_type": "code",
   "execution_count": 158,
   "metadata": {},
   "outputs": [],
   "source": [
    "pointt = []\n",
    "names = []\n",
    "znachs = []\n",
    "locls = []\n",
    "per = []\n",
    "\n",
    "for p in points.points.to_list():\n",
    "    response = requests.get(BASE_URL + '/' + p, headers=HEADERS) # в сессии делаем запрос\n",
    "    soup = BS(response.text, 'html.parser') # Создаём объект BeautifulSoup с содержимым r, указывая html-парсер\n",
    "    point = soup.find('h1', class_='smallHeading d-inline').text.strip()\n",
    "    pointt.append(point)\n",
    "    name = soup.find('h1', class_='smallHeading d-inline', id='nameEngPinin').text.strip()\n",
    "    names.append(name)\n",
    "    zn = soup.find_all('p', class_='mx-3')#.text.strip()\n",
    "    znach = zn[0].text\n",
    "    znachs.append(znach)\n",
    "    local = zn[1].text\n",
    "    locls.append(local)\n",
    "    peresech = zn[3].text\n",
    "    per.append(peresech)\n",
    "\n",
    "points_data = pd.DataFrame(\n",
    "    {\n",
    "        \"Точка\":pointt,\n",
    "        \"Название\":names,\n",
    "        \"Значение\":znachs,\n",
    "        \"Локализация\":locls,\n",
    "        \"Пересечение\":per\n",
    "    }\n",
    ")"
   ]
  },
  {
   "cell_type": "code",
   "execution_count": 230,
   "metadata": {},
   "outputs": [],
   "source": [
    "points_data[\"Точка\"] = points_data[\"Точка\"].str.replace('RenMai','Cv')#, 'Gb':'Gb', 'St':'St', 'Du':'DuMai', 'KD':'Kid', 'Ren':'RenMai', 'SJ':'Th', 'LI':'Co', 'SP':'Sp', 'SI':'Si', 'Liv':'Liv','LU':'Lu', 'HT':'Ht', 'Pc':'Hg'})\n"
   ]
  },
  {
   "cell_type": "code",
   "execution_count": 235,
   "metadata": {},
   "outputs": [
    {
     "data": {
      "text/html": [
       "<div>\n",
       "<style scoped>\n",
       "    .dataframe tbody tr th:only-of-type {\n",
       "        vertical-align: middle;\n",
       "    }\n",
       "\n",
       "    .dataframe tbody tr th {\n",
       "        vertical-align: top;\n",
       "    }\n",
       "\n",
       "    .dataframe thead th {\n",
       "        text-align: right;\n",
       "    }\n",
       "</style>\n",
       "<table border=\"1\" class=\"dataframe\">\n",
       "  <thead>\n",
       "    <tr style=\"text-align: right;\">\n",
       "      <th></th>\n",
       "      <th>Точка</th>\n",
       "      <th>Название</th>\n",
       "      <th>Значение</th>\n",
       "      <th>Локализация</th>\n",
       "    </tr>\n",
       "  </thead>\n",
       "  <tbody>\n",
       "    <tr>\n",
       "      <th>0</th>\n",
       "      <td>Bl1</td>\n",
       "      <td>Jingming</td>\n",
       "      <td>Цзин» (目胃)一 глаза; «минг»  一 просветление. Точ...</td>\n",
       "      <td>На 0,1 цуня кнутри от внутреннего угла глаза.</td>\n",
       "    </tr>\n",
       "    <tr>\n",
       "      <th>1</th>\n",
       "      <td>Bl2</td>\n",
       "      <td>Zanzhu</td>\n",
       "      <td>Цуань  — «сходиться вместе»; «чжу» (竹)—«бамбук...</td>\n",
       "      <td>В углублении у внутреннего края брови, прямо в...</td>\n",
       "    </tr>\n",
       "    <tr>\n",
       "      <th>2</th>\n",
       "      <td>Bl3</td>\n",
       "      <td>Meichong</td>\n",
       "      <td>Мэй — «бровь»; «чун»  — «устремляться». В книг...</td>\n",
       "      <td>Прямо вверх от внутреннего края брови, в серед...</td>\n",
       "    </tr>\n",
       "    <tr>\n",
       "      <th>3</th>\n",
       "      <td>Bl4</td>\n",
       "      <td>Quchai</td>\n",
       "      <td>Цюй  (曲)——изгиб; «чай» (差)一отклоняться в сторо...</td>\n",
       "      <td>На 1,5 цуня кнаружи от точки Шэнь-тин VG.24</td>\n",
       "    </tr>\n",
       "    <tr>\n",
       "      <th>4</th>\n",
       "      <td>Bl5</td>\n",
       "      <td>Wuchu</td>\n",
       "      <td>У (五)——«пять, пятый»; чу (处)—«место». Точка У...</td>\n",
       "      <td>Прямо вверх от точки Цюй-чай V.4, на 1 цунь вы...</td>\n",
       "    </tr>\n",
       "    <tr>\n",
       "      <th>...</th>\n",
       "      <td>...</td>\n",
       "      <td>...</td>\n",
       "      <td>...</td>\n",
       "      <td>...</td>\n",
       "    </tr>\n",
       "    <tr>\n",
       "      <th>356</th>\n",
       "      <td>St41</td>\n",
       "      <td>Jiexi</td>\n",
       "      <td>1. «Цзе» (解)——«сустав, сочленение костей»; «си...</td>\n",
       "      <td>На тыле стопы в центре поперечной складки голе...</td>\n",
       "    </tr>\n",
       "    <tr>\n",
       "      <th>357</th>\n",
       "      <td>St42</td>\n",
       "      <td>Chongyang</td>\n",
       "      <td>«Чун» — импульс, толчок,биение; «ян» —Ян-кана,...</td>\n",
       "      <td>На самой возвышенной части тыла стопы, между с...</td>\n",
       "    </tr>\n",
       "    <tr>\n",
       "      <th>358</th>\n",
       "      <td>St43</td>\n",
       "      <td>Xiangu</td>\n",
       "      <td>«Сянь» — «впадина»; «гу» — «ущелье». Точка рас...</td>\n",
       "      <td>В межкостной щели между II и III плюсневыми ко...</td>\n",
       "    </tr>\n",
       "    <tr>\n",
       "      <th>359</th>\n",
       "      <td>St44</td>\n",
       "      <td>Neiting</td>\n",
       "      <td>Нэй» (内)—«внутри»; «тин» (庭)—«внутренний двор ...</td>\n",
       "      <td>На тыле стопы, на конце щели между II и III па...</td>\n",
       "    </tr>\n",
       "    <tr>\n",
       "      <th>360</th>\n",
       "      <td>St45</td>\n",
       "      <td>Lidui</td>\n",
       "      <td>1. «Ли» (厉)— крутой берег; «дуй» (兑)一пещера . ...</td>\n",
       "      <td>На наружной стороне II пальца стопы, приблизит...</td>\n",
       "    </tr>\n",
       "  </tbody>\n",
       "</table>\n",
       "<p>361 rows × 4 columns</p>\n",
       "</div>"
      ],
      "text/plain": [
       "    Точка   Название                                           Значение  \\\n",
       "0     Bl1   Jingming  Цзин» (目胃)一 глаза; «минг»  一 просветление. Точ...   \n",
       "1     Bl2     Zanzhu  Цуань  — «сходиться вместе»; «чжу» (竹)—«бамбук...   \n",
       "2     Bl3   Meichong  Мэй — «бровь»; «чун»  — «устремляться». В книг...   \n",
       "3     Bl4     Quchai  Цюй  (曲)——изгиб; «чай» (差)一отклоняться в сторо...   \n",
       "4     Bl5      Wuchu   У (五)——«пять, пятый»; чу (处)—«место». Точка У...   \n",
       "..    ...        ...                                                ...   \n",
       "356  St41      Jiexi  1. «Цзе» (解)——«сустав, сочленение костей»; «си...   \n",
       "357  St42  Chongyang  «Чун» — импульс, толчок,биение; «ян» —Ян-кана,...   \n",
       "358  St43     Xiangu  «Сянь» — «впадина»; «гу» — «ущелье». Точка рас...   \n",
       "359  St44    Neiting  Нэй» (内)—«внутри»; «тин» (庭)—«внутренний двор ...   \n",
       "360  St45      Lidui  1. «Ли» (厉)— крутой берег; «дуй» (兑)一пещера . ...   \n",
       "\n",
       "                                           Локализация  \n",
       "0        На 0,1 цуня кнутри от внутреннего угла глаза.  \n",
       "1    В углублении у внутреннего края брови, прямо в...  \n",
       "2    Прямо вверх от внутреннего края брови, в серед...  \n",
       "3          На 1,5 цуня кнаружи от точки Шэнь-тин VG.24  \n",
       "4    Прямо вверх от точки Цюй-чай V.4, на 1 цунь вы...  \n",
       "..                                                 ...  \n",
       "356  На тыле стопы в центре поперечной складки голе...  \n",
       "357  На самой возвышенной части тыла стопы, между с...  \n",
       "358  В межкостной щели между II и III плюсневыми ко...  \n",
       "359  На тыле стопы, на конце щели между II и III па...  \n",
       "360  На наружной стороне II пальца стопы, приблизит...  \n",
       "\n",
       "[361 rows x 4 columns]"
      ]
     },
     "execution_count": 235,
     "metadata": {},
     "output_type": "execute_result"
    }
   ],
   "source": [
    "points_data"
   ]
  },
  {
   "cell_type": "code",
   "execution_count": 236,
   "metadata": {},
   "outputs": [],
   "source": [
    "points_data.to_csv(\"points.csv\")"
   ]
  },
  {
   "cell_type": "code",
   "execution_count": null,
   "metadata": {},
   "outputs": [],
   "source": [
    "# {\"Канал\":\"Gb\",\"Liv\",\"Lu\",\"Co\" }\n",
    "# {\"Симптом\":\"Боль в височных областях\"}"
   ]
  }
 ],
 "metadata": {
  "kernelspec": {
   "display_name": "Python 3",
   "language": "python",
   "name": "python3"
  },
  "language_info": {
   "codemirror_mode": {
    "name": "ipython",
    "version": 3
   },
   "file_extension": ".py",
   "mimetype": "text/x-python",
   "name": "python",
   "nbconvert_exporter": "python",
   "pygments_lexer": "ipython3",
   "version": "3.9.10"
  }
 },
 "nbformat": 4,
 "nbformat_minor": 2
}
