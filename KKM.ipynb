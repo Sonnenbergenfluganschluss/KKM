{
 "cells": [
  {
   "cell_type": "code",
   "execution_count": 1,
   "metadata": {},
   "outputs": [],
   "source": [
    "import pandas as pd\n",
    "from datetime import datetime"
   ]
  },
  {
   "cell_type": "code",
   "execution_count": 2,
   "metadata": {},
   "outputs": [],
   "source": [
    "stihiya = {\"вода\":\"металл\", \"дерево\":\"вода\", \"огонь\":\"дерево\", \"земля\":\"огонь\", \"металл\":\"земля\"}\n",
    "stvoly_Ke = {\"Lu\":\"Si\", \"Co\":\"Liv\", \"Sp\":\"Gb\", \"St\":\"Kid\", \"Ht\":\"Bl\"}\n",
    "vetvi_Ke = {\"Lu\":\"Bl\", \"Co\":\"Kid\", \"Sp\":\"Th\", \"St\":\"Hg\", \"Ht\":\"Gb\", \"Si\":\"Liv\"}\n",
    "u_sin_pitanie = {'Ht': 'Liv',\n",
    "                'Si': 'Gb',\n",
    "                'Hg': 'Liv',\n",
    "                'Th': 'Gb',\n",
    "                'Sp': ['Ht', 'Hg'],\n",
    "                'St': ['Si', 'Th'],\n",
    "                'Lu': 'Sp',\n",
    "                'Co': 'St',\n",
    "                'Kid': 'Lu',\n",
    "                'Bl': 'Co',\n",
    "                'Liv': 'Kid',\n",
    "                'Gb': 'Bl'}\n",
    "u_sin_Ke = {'Hg': 'Gb',\n",
    "            'Th': 'Liv',\n",
    "            'Sp': 'Si',\n",
    "            'St': 'Ht',\n",
    "            'Lu': ['Si', 'Th'],\n",
    "            'Co': ['Ht', 'Hg'],\n",
    "            'Kid': 'St',\n",
    "            'Bl': 'Sp',\n",
    "            'Liv': 'Co',\n",
    "            'Gb': 'Lu',\n",
    "            'Ht': 'Bl',\n",
    "            'Si': 'Kid'}\n",
    "home_Ke = {'Liv': 'Gb',\n",
    "            'Gb': 'Liv',\n",
    "            'Ht': 'Si',\n",
    "            'Si': 'Ht',\n",
    "            'Hg': 'Th',\n",
    "            'Th': 'Hg',\n",
    "            'Sp': 'St',\n",
    "            'St': 'Sp',\n",
    "            'Lu': 'Co',\n",
    "            'Co': 'Lu',\n",
    "            'Kid': 'Bl',\n",
    "            'Bl': 'Kid'}\n",
    "\n",
    "\n",
    "def get_Ke(d, value):\n",
    "    for k, v in d.items():\n",
    "        if v == value:\n",
    "            return k\n",
    "        elif k == value:\n",
    "            return v\n",
    "        "
   ]
  },
  {
   "cell_type": "code",
   "execution_count": 3,
   "metadata": {},
   "outputs": [],
   "source": [
    "polugodie = pd.read_excel(\"Полугодия.xlsx\", index_col=\"year\")\n",
    "u_sin = pd.read_excel(\"У-син.xlsx\", index_col=\"Орган\")\n",
    "season_qi = pd.read_excel(\"season_qi.xlsx\", index_col=\"Орган\")\n",
    "qi = pd.read_excel(\"qi.xlsx\", index_col=\"Стихия\")\n",
    "stvoly = pd.read_excel(\"stvoly.xlsx\", index_col=\"year\")\n",
    "vetvi = pd.read_excel(\"vetvi.xlsx\", index_col=\"year\")\n",
    "sloy = pd.read_excel(\"sloy.xlsx\", index_col=\"year\")"
   ]
  },
  {
   "cell_type": "code",
   "execution_count": 5,
   "metadata": {},
   "outputs": [
    {
     "name": "stdout",
     "output_type": "stream",
     "text": [
      "2000-01-01\n",
      "II полугодие 1999 года\n"
     ]
    }
   ],
   "source": [
    "\n",
    "try:\n",
    "    birthday = str(pd.to_datetime(input(\"Введите дату рождения\"), dayfirst=True)).split()[0]\n",
    "    print(birthday)\n",
    "    year = int(birthday[:4])\n",
    "except:\n",
    "    print(\"Некорректная дата. Попробуйте снова\")\n",
    "\n",
    "if birthday in polugodie.loc[year, \"I полугодие\"]:\n",
    "    print(f\"I полугодие {year} года\")\n",
    "    polugodie_true = \"I полугодие\"\n",
    "    polugodie_false = \"II полугодие\"\n",
    "elif birthday in polugodie.loc[year, \"II полугодие\"]:\n",
    "    print(f\"II полугодие {year} года\")\n",
    "    polugodie_true = \"II полугодие\"\n",
    "    polugodie_false = \"I полугодие\"\n",
    "else:\n",
    "    print(f\"II полугодие {year-1} года\")\n",
    "    polugodie_true = \"II полугодие\"\n",
    "    polugodie_false = \"I полугодие\"\n",
    "    year = year-1\n"
   ]
  },
  {
   "cell_type": "code",
   "execution_count": 6,
   "metadata": {},
   "outputs": [
    {
     "name": "stdout",
     "output_type": "stream",
     "text": [
      "Пустой дом по У-СИН: {'Liv', 'Gb'} \t\t\t\t (['дерево'])\n",
      "Пустая сезонная ЦИ: {'St', 'Hg', 'Si', 'Liv', 'Th', 'Gb'} \t (['вода', 'земля'])\n"
     ]
    },
    {
     "data": {
      "text/html": [
       "<div>\n",
       "<style scoped>\n",
       "    .dataframe tbody tr th:only-of-type {\n",
       "        vertical-align: middle;\n",
       "    }\n",
       "\n",
       "    .dataframe tbody tr th {\n",
       "        vertical-align: top;\n",
       "    }\n",
       "\n",
       "    .dataframe thead th {\n",
       "        text-align: right;\n",
       "    }\n",
       "</style>\n",
       "<table border=\"1\" class=\"dataframe\">\n",
       "  <thead>\n",
       "    <tr style=\"text-align: right;\">\n",
       "      <th></th>\n",
       "      <th>Не используем</th>\n",
       "      <th>Используем</th>\n",
       "    </tr>\n",
       "  </thead>\n",
       "  <tbody>\n",
       "    <tr>\n",
       "      <th>Ствол</th>\n",
       "      <td>Sp</td>\n",
       "      <td>Gb</td>\n",
       "    </tr>\n",
       "    <tr>\n",
       "      <th>Ветвь</th>\n",
       "      <td>Co</td>\n",
       "      <td>Kid</td>\n",
       "    </tr>\n",
       "    <tr>\n",
       "      <th>Слой</th>\n",
       "      <td>Kid+Ht</td>\n",
       "      <td>St+Co</td>\n",
       "    </tr>\n",
       "    <tr>\n",
       "      <th>Zang Fu Xu</th>\n",
       "      <td></td>\n",
       "      <td>{Liv, Gb}</td>\n",
       "    </tr>\n",
       "  </tbody>\n",
       "</table>\n",
       "</div>"
      ],
      "text/plain": [
       "           Не используем Используем\n",
       "Ствол                 Sp         Gb\n",
       "Ветвь                 Co        Kid\n",
       "Слой              Kid+Ht      St+Co\n",
       "Zang Fu Xu                {Liv, Gb}"
      ]
     },
     "execution_count": 6,
     "metadata": {},
     "output_type": "execute_result"
    }
   ],
   "source": [
    "\n",
    "\n",
    "cart = pd.DataFrame(\n",
    "    {\"Ствол\":[stvoly.loc[year, 'Орган'], get_Ke(stvoly_Ke, stvoly.loc[year, 'Орган'])],\n",
    "    \"Ветвь\":[vetvi.loc[year, 'Орган'], get_Ke(vetvi_Ke, vetvi.loc[year, 'Орган'])],\n",
    "    \"Слой\":[sloy.loc[year, polugodie_true], sloy.loc[year, polugodie_false]],\n",
    "    \"Zang Fu Xu\":[\" \", None]}\n",
    ")\n",
    "cart = cart.T\n",
    "cart = cart.rename(columns={\n",
    "    0:\"Не используем\",\n",
    "    1:\"Используем\"\n",
    "})\n",
    "\n",
    "home_full = {stvoly.loc[year, 'Стихия'], \n",
    "             u_sin.loc[stvoly.loc[year, 'Орган'], \"Стихия\"],\n",
    "             u_sin.loc[vetvi.loc[year, 'Орган'], \"Стихия\"],\n",
    "             u_sin.loc[sloy.loc[year, polugodie_true].split(\"+\")[0], \"Стихия\"],\n",
    "             u_sin.loc[sloy.loc[year, polugodie_true].split(\"+\")[1], \"Стихия\"]}\n",
    "\n",
    "season_qi_full = { \n",
    "             season_qi.loc[stvoly.loc[year, 'Орган'], \"Стихия\"],\n",
    "             season_qi.loc[vetvi.loc[year, 'Орган'], \"Стихия\"],\n",
    "             season_qi.loc[sloy.loc[year, polugodie_true].split(\"+\")[0], \"Стихия\"],\n",
    "             season_qi.loc[sloy.loc[year, polugodie_true].split(\"+\")[1], \"Стихия\"]}\n",
    "\n",
    "home_empty = list(set(stihiya.keys()) - home_full)\n",
    "season_qi_empty = list(set(stihiya.keys()) - season_qi_full)\n",
    "\n",
    "a = set(u_sin[u_sin[\"Стихия\"].isin(home_empty)].index.to_list())\n",
    "b = set(season_qi[season_qi[\"Стихия\"].isin(season_qi_empty)].index.to_list())\n",
    "\n",
    "print(f\"Пустой дом по У-СИН: {a} \\t\\t\\t\\t ({home_empty})\")\n",
    "print(f\"Пустая сезонная ЦИ: {b} \\t ({season_qi_empty})\")\n",
    "\n",
    "cart.loc[\"Zang Fu Xu\", \"Используем\"] = a & b\n",
    "cart"
   ]
  },
  {
   "cell_type": "code",
   "execution_count": 8,
   "metadata": {},
   "outputs": [],
   "source": [
    "# polugodie.to_excel(\"Полугодия.xlsx\")\n",
    "# u_sin.to_excel(\"У-син.xlsx\")\n",
    "# season_qi.to_excel(\"season_qi.xlsx\")\n",
    "# qi.to_excel(\"qi.xlsx\")\n",
    "# stvoly.to_excel(\"stvoly.xlsx\")\n",
    "# vetvi.to_excel(\"vetvi.xlsx\")\n",
    "# sloy.to_excel(\"sloy.xlsx\")"
   ]
  },
  {
   "cell_type": "code",
   "execution_count": 30,
   "metadata": {},
   "outputs": [],
   "source": [
    "# Вводим канал в застое:\n",
    "x = \"Bl\""
   ]
  },
  {
   "cell_type": "code",
   "execution_count": 45,
   "metadata": {},
   "outputs": [
    {
     "name": "stdout",
     "output_type": "stream",
     "text": [
      "Возможные каналы в недостатке:\n",
      "по стволам: Ht\n",
      "по ветвям: Lu\n",
      "по у-син: Sp \n",
      "внутри дома: Kid\n"
     ]
    }
   ],
   "source": [
    "# Поиск возможных каналов в недостатке\n",
    "print(f\"Возможные каналы в недостатке:\\n\\\n",
    "по стволам: {get_Ke(stvoly_Ke, x)}\\n\\\n",
    "по ветвям: {get_Ke(vetvi_Ke, x)}\\n\\\n",
    "по у-син: {u_sin_Ke[x]} \\n\\\n",
    "внутри дома: {home_Ke[x]}\") \n",
    "\n"
   ]
  },
  {
   "cell_type": "code",
   "execution_count": 134,
   "metadata": {},
   "outputs": [
    {
     "name": "stdout",
     "output_type": "stream",
     "text": [
      "Точка трансформации:\n",
      "Sp2\n",
      "Точка качества дома:\n",
      "Sp3\n",
      "Точки сезонной ци: \n",
      "Gb 43\n",
      "Th 2\n",
      "Точки трансформации по сезонной ци: \n",
      "Gb44\n",
      "Th1\n"
     ]
    }
   ],
   "source": [
    "minus='Lu'\n",
    "print(\"Точка трансформации:\")\n",
    "try:\n",
    "    print(f'{u_sin_pitanie[minus]}{qi.loc[u_sin.loc[u_sin_Ke[minus], \"Стихия\"].mode()[0], u_sin_pitanie[minus]]}')\n",
    "except:\n",
    "    print(f'{u_sin_pitanie[minus]}{qi.loc[u_sin.loc[u_sin_Ke[minus], \"Стихия\"], u_sin_pitanie[minus]]}')\n",
    "\n",
    "print(\"Точка качества дома:\")\n",
    "try:\n",
    "    print(f'{u_sin_pitanie[minus]}{qi.loc[u_sin.loc[u_sin_pitanie[minus], \"Стихия\"].mode()[0], u_sin_pitanie[minus]]}')\n",
    "except:\n",
    "    print(f'{u_sin_pitanie[minus]}{qi.loc[u_sin.loc[u_sin_pitanie[minus], \"Стихия\"], u_sin_pitanie[minus]]}')\n",
    "print(\"Точки сезонной ци: \")\n",
    "for c in season_qi[season_qi[\"Стихия\"] == stihiya[season_qi.loc[minus, \"Стихия\"]]].index.to_list():\n",
    "    print(c, qi.loc[stihiya[season_qi.loc[minus, \"Стихия\"]], c])\n",
    "print(\"Точки трансформации по сезонной ци: \")\n",
    "for c in season_qi[season_qi[\"Стихия\"] == stihiya[season_qi.loc[minus, \"Стихия\"]]].index.to_list():\n",
    "    print(f'{c}{qi.loc[stihiya[stihiya[season_qi.loc[minus, \"Стихия\"]]], c]}')"
   ]
  }
 ],
 "metadata": {
  "kernelspec": {
   "display_name": "Python 3",
   "language": "python",
   "name": "python3"
  },
  "language_info": {
   "codemirror_mode": {
    "name": "ipython",
    "version": 3
   },
   "file_extension": ".py",
   "mimetype": "text/x-python",
   "name": "python",
   "nbconvert_exporter": "python",
   "pygments_lexer": "ipython3",
   "version": "3.9.10"
  }
 },
 "nbformat": 4,
 "nbformat_minor": 2
}
