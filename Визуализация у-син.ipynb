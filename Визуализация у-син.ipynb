{
 "cells": [
  {
   "cell_type": "markdown",
   "metadata": {},
   "source": [
    "- застой: co\n",
    "- недостаток: liv\n",
    "- ветер: si, kid, bl, gb, st\n",
    "- жар: liv, ht\n",
    "- холод: sp"
   ]
  },
  {
   "cell_type": "code",
   "execution_count": null,
   "metadata": {},
   "outputs": [
    {
     "data": {
      "text/plain": [
       "{'co': ['+'],\n",
       " 'gb': ['+', 'w'],\n",
       " 'liv': ['__', 'жар'],\n",
       " 'kid': ['__', 'w', 'холод'],\n",
       " 'si': ['w'],\n",
       " 'bl': ['w'],\n",
       " 'st': ['w'],\n",
       " 'sp': ['жар']}"
      ]
     },
     "execution_count": 37,
     "metadata": {},
     "output_type": "execute_result"
    }
   ],
   "source": [
    "import matplotlib.pyplot as plt\n",
    "import numpy as np\n",
    "\n",
    "di = {'+':['co', 'gb'],\n",
    "    '__':['liv', 'kid'],\n",
    "    'w':['si', 'kid', 'bl', 'gb', 'st'],\n",
    "    'жар':['liv', 'sp'],\n",
    "    'холод':['kid']\n",
    "    }\n",
    "\n",
    "ander = dict()\n",
    "\n",
    "for k in di.keys():\n",
    "    for v in di[k]:\n",
    "        v=v.lower()\n",
    "        if v in ander.keys():\n",
    "            ander[v].append(k)\n",
    "        else:\n",
    "            ander[v] = [k]\n",
    "\n",
    "# Устанавливаем базовые параметры\n",
    "num_vertices = 5\n",
    "radius = 1\n",
    "circle_radius = 0.08  # Радиус небольших кружков\n",
    "colors = {'жар':'red', 'сырость':'orange', 'сухость':'grey', 'холод':'blue'}  # Цвета для кружочков\n",
    "\n",
    "# Генерируем случайные знаки и цвета\n",
    "def random_sign(channel, table=ander):\n",
    "    if channel in table.keys():\n",
    "        return table[channel]\n",
    "    else:\n",
    "        return ''\n",
    "\n",
    "# Функция для рисования секторов графа\n",
    "def draw_sector(ax, center, radius, theta_start, theta_end, sign):\n",
    "    # Угол в радианах\n",
    "    theta = np.linspace(np.radians(theta_start), np.radians(theta_end), 100)\n",
    "    x = np.append(center[0], center[0] + radius * np.cos(theta))\n",
    "    y = np.append(center[1], center[1] + radius * np.sin(theta))\n",
    "\n",
    "    # Заполняем сектор цветом\n",
    "    # color = random.choice(colors)  # Выбираем случайный цвет для кружка\n",
    "    ax.fill(x, y, color='lightgrey', alpha=0.5)\n",
    "    count = 0\n",
    "    for s in sign:\n",
    "        # Добавляем маленькие кружочки\n",
    "        if s in ['жар', 'холод', 'сырость', 'сухость']:\n",
    "            circle_x = center[0] + radius * np.cos(np.radians((theta_start + theta_end) / 2)) * (0.4+count)\n",
    "            circle_y = center[1] + radius * np.sin(np.radians((theta_start + theta_end) / 2)) * (0.4+count)\n",
    "            ax.add_patch(plt.Circle((circle_x, circle_y), circle_radius, color=colors[s]))\n",
    "\n",
    "        # Добавляем знак в центр сектора\n",
    "        else:\n",
    "            circle_x = center[0] + radius * np.cos(np.radians((theta_start + theta_end) / 2)) * (0.6-count)\n",
    "            circle_y = center[1] + radius * np.sin(np.radians((theta_start + theta_end) / 2)) * (0.6-count)\n",
    "            ax.text(circle_x, circle_y, s, ha='center', va='center', fontsize=25)\n",
    "        count += 0.3\n",
    "\n",
    "# Создание графика\n",
    "fig, ax = plt.subplots(figsize=(8, 8))\n",
    "ax.axis('equal')  # Одинаковые масштабы по осям\n",
    "ax.axis('off')  # Отключаем оси\n",
    "\n",
    "# Открывающие углы для каждой вершины\n",
    "angles = np.linspace(0, 360, num_vertices+1)\n",
    "\n",
    "# Рисуем вершины: одна с 4 секторами, остальные с 2\n",
    "draw_sector(ax, (np.sin(np.radians(angles[0])) * 2, np.cos(np.radians(angles[0])) * 2), radius, 0, 90, random_sign('th'))\n",
    "draw_sector(ax, (np.sin(np.radians(angles[0])) * 2, np.cos(np.radians(angles[0])) * 2), radius, 90, 180, random_sign('hg'))\n",
    "draw_sector(ax, (np.sin(np.radians(angles[0])) * 2, np.cos(np.radians(angles[0])) * 2), radius, 180, 270, random_sign('ht'))\n",
    "draw_sector(ax, (np.sin(np.radians(angles[0])) * 2, np.cos(np.radians(angles[0])) * 2), radius, 270, 360, random_sign('si'))  # 4 сектора для первой вершины\n",
    "\n",
    "draw_sector(ax, (np.sin(np.radians(angles[1])) * 2, np.cos(np.radians(angles[1])) * 2), radius, angles[1] + 0 * 180, angles[1] + (0 + 1) * 180, random_sign('sp'))\n",
    "draw_sector(ax, (np.sin(np.radians(angles[1])) * 2, np.cos(np.radians(angles[1])) * 2), radius, angles[1] + 1 * 180, angles[1] + (1 + 1) * 180, random_sign('st'))\n",
    "\n",
    "draw_sector(ax, (np.sin(np.radians(angles[2])) * 2, np.cos(np.radians(angles[2])) * 2), radius, angles[1] + 0 * 180, angles[1] + (0 + 1) * 180, random_sign('lu'))\n",
    "draw_sector(ax, (np.sin(np.radians(angles[2])) * 2, np.cos(np.radians(angles[2])) * 2), radius, angles[1] + 1 * 180, angles[1] + (1 + 1) * 180, random_sign('co'))\n",
    "\n",
    "draw_sector(ax, (np.sin(np.radians(angles[3])) * 2, np.cos(np.radians(angles[3])) * 2), radius, angles[4] + 0 * 180, angles[4] + (0 + 1) * 180, random_sign('kid'))\n",
    "draw_sector(ax, (np.sin(np.radians(angles[3])) * 2, np.cos(np.radians(angles[3])) * 2), radius, angles[4] + 1 * 180, angles[4] + (1 + 1) * 180, random_sign('bl'))\n",
    "\n",
    "draw_sector(ax, (np.sin(np.radians(angles[4])) * 2, np.cos(np.radians(angles[4])) * 2), radius, angles[4] + 0 * 180, angles[4] + (0 + 1) * 180, random_sign('liv'))\n",
    "draw_sector(ax, (np.sin(np.radians(angles[4])) * 2, np.cos(np.radians(angles[4])) * 2), radius, angles[4] + 1 * 180, angles[4] + (1 + 1) * 180, random_sign('gb'))\n",
    "\n",
    "# Отображаем график\n",
    "plt.title(\"У-син\")\n",
    "plt.show()"
   ]
  }
 ],
 "metadata": {
  "colab": {
   "provenance": []
  },
  "kernelspec": {
   "display_name": "Python 3",
   "name": "python3"
  },
  "language_info": {
   "codemirror_mode": {
    "name": "ipython",
    "version": 3
   },
   "file_extension": ".py",
   "mimetype": "text/x-python",
   "name": "python",
   "nbconvert_exporter": "python",
   "pygments_lexer": "ipython3",
   "version": "3.9.10"
  }
 },
 "nbformat": 4,
 "nbformat_minor": 0
}
